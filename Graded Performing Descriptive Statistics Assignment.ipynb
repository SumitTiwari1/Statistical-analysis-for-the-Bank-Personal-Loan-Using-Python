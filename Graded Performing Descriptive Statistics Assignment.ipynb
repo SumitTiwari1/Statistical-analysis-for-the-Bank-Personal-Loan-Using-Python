{
 "cells": [
  {
   "cell_type": "markdown",
   "id": "4f36527c",
   "metadata": {},
   "source": [
    "# Section 1"
   ]
  },
  {
   "cell_type": "code",
   "execution_count": 1,
   "id": "589173c7",
   "metadata": {},
   "outputs": [
    {
     "data": {
      "text/plain": [
       "' (Q-1). A statistics test was conducted for 10 learners in a class. The mean of their score is 85 and the\\nvariance of the score is zero. What can you interpret about the score obtained by all learners? \\n\\n\\n(Ans-1) If the variance of the scores is zero, it means that all the scores are identical and equal to the mean. \\nIn this case, all 10 learners scored 85 on the statistics test.\\n\\nIt implies that there was absolutely no variability in the scores among the learners. \\nIt could suggest that either the test was extremely easy for all learners, or there was some error or constraint in the testing \\nprocess that led to all learners achieving the exact same score.'"
      ]
     },
     "execution_count": 1,
     "metadata": {},
     "output_type": "execute_result"
    }
   ],
   "source": [
    "''' (Q-1). A statistics test was conducted for 10 learners in a class. The mean of their score is 85 and the\n",
    "variance of the score is zero. What can you interpret about the score obtained by all learners? \n",
    "\n",
    "\n",
    "(Ans-1) If the variance of the scores is zero, it means that all the scores are identical and equal to the mean. \n",
    "In this case, all 10 learners scored 85 on the statistics test.\n",
    "\n",
    "It implies that there was absolutely no variability in the scores among the learners. \n",
    "It could suggest that either the test was extremely easy for all learners, or there was some error or constraint in the testing \n",
    "process that led to all learners achieving the exact same score.'''"
   ]
  },
  {
   "cell_type": "code",
   "execution_count": null,
   "id": "728f2e71",
   "metadata": {},
   "outputs": [],
   "source": []
  },
  {
   "cell_type": "code",
   "execution_count": 2,
   "id": "3a8c87dc",
   "metadata": {},
   "outputs": [
    {
     "data": {
      "text/plain": [
       "' (Q-2). In a residential locality, the mean size of the house is 2224 square feet and the median value of\\nthe house is 1500 square feet. What can you interpret about the skewness in the distribution of\\nhouse size?\\nAre there more bigger or smaller houses in the residential locality?\\n\\n(Ans-2) The mean and median are measures of central tendency that help describe the distribution of data. In this case:\\n\\nThe mean size of the house is 2224 square feet.\\nThe median size of the house is 1500 square feet.\\n\\nWhen the mean is greater than the median, it suggests that the distribution is (positively skewed.)\\n\\nIn the context of house sizes:\\n\\nThe mean being larger than the median indicates that there are some houses with very large sizes that pull the mean upward, \\ncreating a rightward skew in the distribution.\\nThe median being smaller suggests that there are more houses with sizes below the median value, contributing to the skewness.\\n\\nTherefore, the distribution of house sizes in this residential locality is positively skewed, \\nmeaning there are relatively fewer larger houses compared to smaller ones.\\n\\nThere are relatively (more smaller houses compared to larger ones.)\\n\\n'"
      ]
     },
     "execution_count": 2,
     "metadata": {},
     "output_type": "execute_result"
    }
   ],
   "source": [
    "''' (Q-2). In a residential locality, the mean size of the house is 2224 square feet and the median value of\n",
    "the house is 1500 square feet. What can you interpret about the skewness in the distribution of\n",
    "house size?\n",
    "Are there more bigger or smaller houses in the residential locality?\n",
    "\n",
    "(Ans-2) The mean and median are measures of central tendency that help describe the distribution of data. In this case:\n",
    "\n",
    "The mean size of the house is 2224 square feet.\n",
    "The median size of the house is 1500 square feet.\n",
    "\n",
    "When the mean is greater than the median, it suggests that the distribution is (positively skewed.)\n",
    "\n",
    "In the context of house sizes:\n",
    "\n",
    "The mean being larger than the median indicates that there are some houses with very large sizes that pull the mean upward, \n",
    "creating a rightward skew in the distribution.\n",
    "The median being smaller suggests that there are more houses with sizes below the median value, contributing to the skewness.\n",
    "\n",
    "Therefore, the distribution of house sizes in this residential locality is positively skewed, \n",
    "meaning there are relatively fewer larger houses compared to smaller ones.\n",
    "\n",
    "There are relatively (more smaller houses compared to larger ones.)\n",
    "\n",
    "'''"
   ]
  },
  {
   "cell_type": "code",
   "execution_count": null,
   "id": "c2c83d8f",
   "metadata": {},
   "outputs": [],
   "source": []
  },
  {
   "cell_type": "code",
   "execution_count": 3,
   "id": "5d342946",
   "metadata": {},
   "outputs": [
    {
     "data": {
      "text/plain": [
       "\"(Q-3). The following table shows the mean and variance of the expenditure for two groups of people.\\nYou want to compare the variability in expenditure for both groups with respect to their mean.\\nWhich statistical measure would you use to evaluate the variability in expenditure? Please\\nprovide an explanation for your answer.\\n\\n\\n\\n(Ans-2) To evaluate the variability in expenditure for both groups with respect to their mean, \\nwe should use the coefficient of variation (CV).\\n\\nThe coefficient of variation is a standardized measure of dispersion that allows us to compare the variability of different \\ndatasets, particularly when the means of the datasets are different. \\nIt is calculated as the ratio of the standard deviation to the mean, expressed as a percentage.\\n\\nHere's how we would calculate the coefficient of variation for both Group 1 and Group 2:\\n\\nFor Group 1:\\nCV = (Std Dev / Mean) * 100\\n            = (125000 / 500000) * 100\\n            = 25%\\n\\nFor Group 2:\\nCV = (Std Dev / Mean) * 100\\n            = (10000 / 40000) * 100\\n            = 25%\\n\\nBoth groups have a coefficient of variation of 25%, \\nindicating that the variability in expenditure relative to their mean is the same for both groups.\\n\\nBy using the coefficient of variation, we can compare the relative variability of expenditure between the two groups \\nwhile accounting for differences in their means.\\n\\n\\n\""
      ]
     },
     "execution_count": 3,
     "metadata": {},
     "output_type": "execute_result"
    }
   ],
   "source": [
    "'''(Q-3). The following table shows the mean and variance of the expenditure for two groups of people.\n",
    "You want to compare the variability in expenditure for both groups with respect to their mean.\n",
    "Which statistical measure would you use to evaluate the variability in expenditure? Please\n",
    "provide an explanation for your answer.\n",
    "\n",
    "\n",
    "\n",
    "(Ans-2) To evaluate the variability in expenditure for both groups with respect to their mean, \n",
    "we should use the coefficient of variation (CV).\n",
    "\n",
    "The coefficient of variation is a standardized measure of dispersion that allows us to compare the variability of different \n",
    "datasets, particularly when the means of the datasets are different. \n",
    "It is calculated as the ratio of the standard deviation to the mean, expressed as a percentage.\n",
    "\n",
    "Here's how we would calculate the coefficient of variation for both Group 1 and Group 2:\n",
    "\n",
    "For Group 1:\n",
    "CV = (Std Dev / Mean) * 100\n",
    "            = (125000 / 500000) * 100\n",
    "            = 25%\n",
    "\n",
    "For Group 2:\n",
    "CV = (Std Dev / Mean) * 100\n",
    "            = (10000 / 40000) * 100\n",
    "            = 25%\n",
    "\n",
    "Both groups have a coefficient of variation of 25%, \n",
    "indicating that the variability in expenditure relative to their mean is the same for both groups.\n",
    "\n",
    "By using the coefficient of variation, we can compare the relative variability of expenditure between the two groups \n",
    "while accounting for differences in their means.\n",
    "\n",
    "\n",
    "'''"
   ]
  },
  {
   "cell_type": "code",
   "execution_count": null,
   "id": "1da3f89f",
   "metadata": {},
   "outputs": [],
   "source": []
  },
  {
   "cell_type": "code",
   "execution_count": 4,
   "id": "2a98a8d7",
   "metadata": {},
   "outputs": [
    {
     "data": {
      "text/plain": [
       "'(Q-4). During the survey, the ages of 80 patients infected by COVID and admitted to one of the city\\nhospitals were recorded and the collected data is represented in the less than cumulative\\nfrequency distribution table.\\n\\nAge (in yrs.)    No. of Patients\\n5 - 15                6\\n15 - 25               11\\n25 - 35               21\\n35 - 45               23\\n45 - 55               14\\n55 - 65               5\\n\\n\\n(Ans-4)\\na. Which class interval has the highest frequency?\\n              the interval with the highest frequency is (\"35 - 45\") with 23 patients.\\n              \\nb. Which age was affected the least?\\n              the interval \"55 - 65\" has the least number of patients, with only 5 patients.\\n              represents the age group that was affected the least\\n              \\nc. How many patients of age 45 years and above were admitted?\\n              the number of patients aged 45 years and above is: 14 + 5 = 19 patients.\\n              \\nd. Which is the modal class interval in the above dataset\\n              The modal class interval is the interval with the highest frequency. \\n              In this case, the modal class interval is \"35 - 45\" with a frequency of 23 patients.\\n              \\ne. What is the median class interval of age?\\n              To find the median class interval, we need to find the cumulative frequency just greater than \\n              (or equal to) half of the total frequency. Then, we look at the corresponding class interval. \\n              The total frequency is:\\n              \\n              6 + 11 + 21 + 23 + 14 + 5 = 80\\n              \\n              Half of 80 is 40. We find the cumulative frequency at or just greater than 40:\\n              \\n              Cumulative Frequency:\\n              \\n                5 - 15: 6\\n                15 - 25: 6 + 11 = 17\\n                25 - 35: 17 + 21 = 38\\n\\n                So, the median class interval is (25 - 35)\\n\\n'"
      ]
     },
     "execution_count": 4,
     "metadata": {},
     "output_type": "execute_result"
    }
   ],
   "source": [
    "'''(Q-4). During the survey, the ages of 80 patients infected by COVID and admitted to one of the city\n",
    "hospitals were recorded and the collected data is represented in the less than cumulative\n",
    "frequency distribution table.\n",
    "\n",
    "Age (in yrs.)    No. of Patients\n",
    "5 - 15                6\n",
    "15 - 25               11\n",
    "25 - 35               21\n",
    "35 - 45               23\n",
    "45 - 55               14\n",
    "55 - 65               5\n",
    "\n",
    "\n",
    "(Ans-4)\n",
    "a. Which class interval has the highest frequency?\n",
    "              the interval with the highest frequency is (\"35 - 45\") with 23 patients.\n",
    "              \n",
    "b. Which age was affected the least?\n",
    "              the interval \"55 - 65\" has the least number of patients, with only 5 patients.\n",
    "              represents the age group that was affected the least\n",
    "              \n",
    "c. How many patients of age 45 years and above were admitted?\n",
    "              the number of patients aged 45 years and above is: 14 + 5 = 19 patients.\n",
    "              \n",
    "d. Which is the modal class interval in the above dataset\n",
    "              The modal class interval is the interval with the highest frequency. \n",
    "              In this case, the modal class interval is \"35 - 45\" with a frequency of 23 patients.\n",
    "              \n",
    "e. What is the median class interval of age?\n",
    "              To find the median class interval, we need to find the cumulative frequency just greater than \n",
    "              (or equal to) half of the total frequency. Then, we look at the corresponding class interval. \n",
    "              The total frequency is:\n",
    "              \n",
    "              6 + 11 + 21 + 23 + 14 + 5 = 80\n",
    "              \n",
    "              Half of 80 is 40. We find the cumulative frequency at or just greater than 40:\n",
    "              \n",
    "              Cumulative Frequency:\n",
    "              \n",
    "                5 - 15: 6\n",
    "                15 - 25: 6 + 11 = 17\n",
    "                25 - 35: 17 + 21 = 38\n",
    "\n",
    "                So, the median class interval is (25 - 35)\n",
    "\n",
    "'''"
   ]
  },
  {
   "cell_type": "code",
   "execution_count": null,
   "id": "d43a7f3a",
   "metadata": {},
   "outputs": [],
   "source": []
  },
  {
   "cell_type": "code",
   "execution_count": 5,
   "id": "c39b266b",
   "metadata": {},
   "outputs": [
    {
     "data": {
      "text/plain": [
       "'\\n(Q-5). Assume you are the trader and you have invested over the years, and you are worried about the\\naverage return on investment. What average method would you use to compute the average\\nreturn for the data given below?\\n\\nYear                Return                 Asset Price\\n2015                 36%                       5000\\n2016                 23%                       6400\\n2017                -48%                       7890\\n2018                -30%                       9023\\n2019                 15%                       4567\\n2020                 31%                       3890\\n\\n(Ans-5)\\n\\nTo compute the average return on investment for the given data, we can use the geometric mean. \\nThe geometric mean is a measure of average that accounts for the compounding effect of returns over multiple periods, \\nmaking it suitable for calculating the average return on investment over several years.\\n\\n\\nUsing the data provided:\\n\\n((1 + 0.36)*(1 + 0.23)*(1 - 0.48)*(1 - 0.30)*(1 + 0.15)*(1 + 0.31)^ 1/6 - 1 )\\n\\nCalculating the product inside the parentheses:\\n\\n(Geometric Mean) = (1.36 * 1.23 * 0.52 * 0.70 * 1.15 * 1.31)^1/6 - 1 \\n(Geometric Mean) = (0.3335859)^1/6 - 1\\n(Geometric Mean) = 1.094618 - 1 \\n(Geometric Mean) = 0.094618\\n\\nSo, the average return on investment, using the geometric mean, is approximately ( 9.46 % ) per year \\nover the period from 2015 to 2020.\\n'"
      ]
     },
     "execution_count": 5,
     "metadata": {},
     "output_type": "execute_result"
    }
   ],
   "source": [
    "'''\n",
    "(Q-5). Assume you are the trader and you have invested over the years, and you are worried about the\n",
    "average return on investment. What average method would you use to compute the average\n",
    "return for the data given below?\n",
    "\n",
    "Year                Return                 Asset Price\n",
    "2015                 36%                       5000\n",
    "2016                 23%                       6400\n",
    "2017                -48%                       7890\n",
    "2018                -30%                       9023\n",
    "2019                 15%                       4567\n",
    "2020                 31%                       3890\n",
    "\n",
    "(Ans-5)\n",
    "\n",
    "To compute the average return on investment for the given data, we can use the geometric mean. \n",
    "The geometric mean is a measure of average that accounts for the compounding effect of returns over multiple periods, \n",
    "making it suitable for calculating the average return on investment over several years.\n",
    "\n",
    "\n",
    "Using the data provided:\n",
    "\n",
    "((1 + 0.36)*(1 + 0.23)*(1 - 0.48)*(1 - 0.30)*(1 + 0.15)*(1 + 0.31)^ 1/6 - 1 )\n",
    "\n",
    "Calculating the product inside the parentheses:\n",
    "\n",
    "(Geometric Mean) = (1.36 * 1.23 * 0.52 * 0.70 * 1.15 * 1.31)^1/6 - 1 \n",
    "(Geometric Mean) = (0.3335859)^1/6 - 1\n",
    "(Geometric Mean) = 1.094618 - 1 \n",
    "(Geometric Mean) = 0.094618\n",
    "\n",
    "So, the average return on investment, using the geometric mean, is approximately ( 9.46 % ) per year \n",
    "over the period from 2015 to 2020.\n",
    "'''"
   ]
  },
  {
   "cell_type": "code",
   "execution_count": null,
   "id": "e33cc723",
   "metadata": {},
   "outputs": [],
   "source": []
  },
  {
   "cell_type": "code",
   "execution_count": 6,
   "id": "3cd2b6c0",
   "metadata": {},
   "outputs": [
    {
     "data": {
      "text/plain": [
       "\"\\n(Q-6). Suppose you have been told to measure the average height of all the males on the earth. What\\nwould be your strategy for the same? Would the average height be a parameter or a statistic?\\nJustify your answer.\\n\\n\\n(Ans-6)\\n\\nMeasuring the average height of all males on Earth would be an enormous undertaking due to the sheer size of the population \\nand the logistical challenges involved in obtaining accurate data from every male individual. \\nHowever, if we were to attempt this task, we would need to employ a sampling strategy, as it is impractical to measure \\nthe height of every male on Earth.\\n\\nHere's a potential strategy:\\n\\nSampling Methodology: We would need to select a representative sample of males from different regions, countries, ethnicities, \\n                      ages, and socioeconomic backgrounds to ensure that our sample is diverse and reflects the global \\n                      male population.\\n                      \\nRegarding whether the average height would be a parameter or a statistic:\\n\\nParameter: The average height of all males on Earth would be considered a parameter. \\n           and in this case, it represents the true average height of all males worldwide.\\n\\nStatistic: The average height calculated from the sample data would be considered a statistic. \\n           A statistic is a numerical characteristic of a sample.\\n\\nIn summary, measuring the average height of all males on Earth would involve sampling, data collection, and analysis, \\nwith the resulting average height being a parameter of the population and the calculated average height from the sample data \\nbeing a statistic.\\n                    \\n\""
      ]
     },
     "execution_count": 6,
     "metadata": {},
     "output_type": "execute_result"
    }
   ],
   "source": [
    "'''\n",
    "(Q-6). Suppose you have been told to measure the average height of all the males on the earth. What\n",
    "would be your strategy for the same? Would the average height be a parameter or a statistic?\n",
    "Justify your answer.\n",
    "\n",
    "\n",
    "(Ans-6)\n",
    "\n",
    "Measuring the average height of all males on Earth would be an enormous undertaking due to the sheer size of the population \n",
    "and the logistical challenges involved in obtaining accurate data from every male individual. \n",
    "However, if we were to attempt this task, we would need to employ a sampling strategy, as it is impractical to measure \n",
    "the height of every male on Earth.\n",
    "\n",
    "Here's a potential strategy:\n",
    "\n",
    "Sampling Methodology: We would need to select a representative sample of males from different regions, countries, ethnicities, \n",
    "                      ages, and socioeconomic backgrounds to ensure that our sample is diverse and reflects the global \n",
    "                      male population.\n",
    "                      \n",
    "Regarding whether the average height would be a parameter or a statistic:\n",
    "\n",
    "Parameter: The average height of all males on Earth would be considered a parameter. \n",
    "           and in this case, it represents the true average height of all males worldwide.\n",
    "\n",
    "Statistic: The average height calculated from the sample data would be considered a statistic. \n",
    "           A statistic is a numerical characteristic of a sample.\n",
    "\n",
    "In summary, measuring the average height of all males on Earth would involve sampling, data collection, and analysis, \n",
    "with the resulting average height being a parameter of the population and the calculated average height from the sample data \n",
    "being a statistic.\n",
    "                    \n",
    "'''"
   ]
  },
  {
   "cell_type": "code",
   "execution_count": null,
   "id": "4e4461f8",
   "metadata": {},
   "outputs": [],
   "source": []
  },
  {
   "cell_type": "code",
   "execution_count": 7,
   "id": "242b1e31",
   "metadata": {},
   "outputs": [
    {
     "name": "stdout",
     "output_type": "stream",
     "text": [
      "Mean is :- 8.083333333333334\n",
      "Standard Deviation is :- 2.3060909686210462\n",
      "Z-Score is :- 2.3060909686210462\n"
     ]
    }
   ],
   "source": [
    "'''(Q-7). \n",
    "Calculate the z score of the following numbers:'''\n",
    "import numpy as np\n",
    "from scipy import stats as st\n",
    "\n",
    "X = [4.5,6.2,7.3,9.1,10.4,11]\n",
    "\n",
    "y = np.mean(X)\n",
    "print(\"Mean is :- \" + str(y))\n",
    "\n",
    "z = np.std(X)\n",
    "print(\"Standard Deviation is :- \" + str(z))\n",
    "\n",
    "a = st.zscore(X)\n",
    "print(\"Z-Score is :- \" + str(z))"
   ]
  },
  {
   "cell_type": "code",
   "execution_count": null,
   "id": "ceac957c",
   "metadata": {},
   "outputs": [],
   "source": []
  },
  {
   "cell_type": "markdown",
   "id": "2eca5725",
   "metadata": {},
   "source": [
    "# SECTION 2"
   ]
  },
  {
   "cell_type": "code",
   "execution_count": 8,
   "id": "cd71a159",
   "metadata": {},
   "outputs": [],
   "source": [
    "import numpy as np\n",
    "import seaborn as sb\n",
    "import pandas as pd\n",
    "import matplotlib as plt"
   ]
  },
  {
   "cell_type": "code",
   "execution_count": 9,
   "id": "3cb56a4c",
   "metadata": {},
   "outputs": [
    {
     "data": {
      "text/html": [
       "<div>\n",
       "<style scoped>\n",
       "    .dataframe tbody tr th:only-of-type {\n",
       "        vertical-align: middle;\n",
       "    }\n",
       "\n",
       "    .dataframe tbody tr th {\n",
       "        vertical-align: top;\n",
       "    }\n",
       "\n",
       "    .dataframe thead th {\n",
       "        text-align: right;\n",
       "    }\n",
       "</style>\n",
       "<table border=\"1\" class=\"dataframe\">\n",
       "  <thead>\n",
       "    <tr style=\"text-align: right;\">\n",
       "      <th></th>\n",
       "      <th>ID</th>\n",
       "      <th>Age</th>\n",
       "      <th>Experience</th>\n",
       "      <th>Income</th>\n",
       "      <th>ZIP Code</th>\n",
       "      <th>Family</th>\n",
       "      <th>CCAvg</th>\n",
       "      <th>Education</th>\n",
       "      <th>Mortgage</th>\n",
       "      <th>Personal Loan</th>\n",
       "      <th>Securities Account</th>\n",
       "      <th>CD Account</th>\n",
       "      <th>Online</th>\n",
       "      <th>CreditCard</th>\n",
       "    </tr>\n",
       "  </thead>\n",
       "  <tbody>\n",
       "    <tr>\n",
       "      <th>0</th>\n",
       "      <td>1</td>\n",
       "      <td>25</td>\n",
       "      <td>1</td>\n",
       "      <td>49</td>\n",
       "      <td>91107</td>\n",
       "      <td>4</td>\n",
       "      <td>1.6</td>\n",
       "      <td>1</td>\n",
       "      <td>0</td>\n",
       "      <td>0</td>\n",
       "      <td>1</td>\n",
       "      <td>0</td>\n",
       "      <td>0</td>\n",
       "      <td>0</td>\n",
       "    </tr>\n",
       "    <tr>\n",
       "      <th>1</th>\n",
       "      <td>2</td>\n",
       "      <td>45</td>\n",
       "      <td>19</td>\n",
       "      <td>34</td>\n",
       "      <td>90089</td>\n",
       "      <td>3</td>\n",
       "      <td>1.5</td>\n",
       "      <td>1</td>\n",
       "      <td>0</td>\n",
       "      <td>0</td>\n",
       "      <td>1</td>\n",
       "      <td>0</td>\n",
       "      <td>0</td>\n",
       "      <td>0</td>\n",
       "    </tr>\n",
       "    <tr>\n",
       "      <th>2</th>\n",
       "      <td>3</td>\n",
       "      <td>39</td>\n",
       "      <td>15</td>\n",
       "      <td>11</td>\n",
       "      <td>94720</td>\n",
       "      <td>1</td>\n",
       "      <td>1.0</td>\n",
       "      <td>1</td>\n",
       "      <td>0</td>\n",
       "      <td>0</td>\n",
       "      <td>0</td>\n",
       "      <td>0</td>\n",
       "      <td>0</td>\n",
       "      <td>0</td>\n",
       "    </tr>\n",
       "    <tr>\n",
       "      <th>3</th>\n",
       "      <td>4</td>\n",
       "      <td>35</td>\n",
       "      <td>9</td>\n",
       "      <td>100</td>\n",
       "      <td>94112</td>\n",
       "      <td>1</td>\n",
       "      <td>2.7</td>\n",
       "      <td>2</td>\n",
       "      <td>0</td>\n",
       "      <td>0</td>\n",
       "      <td>0</td>\n",
       "      <td>0</td>\n",
       "      <td>0</td>\n",
       "      <td>0</td>\n",
       "    </tr>\n",
       "    <tr>\n",
       "      <th>4</th>\n",
       "      <td>5</td>\n",
       "      <td>35</td>\n",
       "      <td>8</td>\n",
       "      <td>45</td>\n",
       "      <td>91330</td>\n",
       "      <td>4</td>\n",
       "      <td>1.0</td>\n",
       "      <td>2</td>\n",
       "      <td>0</td>\n",
       "      <td>0</td>\n",
       "      <td>0</td>\n",
       "      <td>0</td>\n",
       "      <td>0</td>\n",
       "      <td>1</td>\n",
       "    </tr>\n",
       "    <tr>\n",
       "      <th>...</th>\n",
       "      <td>...</td>\n",
       "      <td>...</td>\n",
       "      <td>...</td>\n",
       "      <td>...</td>\n",
       "      <td>...</td>\n",
       "      <td>...</td>\n",
       "      <td>...</td>\n",
       "      <td>...</td>\n",
       "      <td>...</td>\n",
       "      <td>...</td>\n",
       "      <td>...</td>\n",
       "      <td>...</td>\n",
       "      <td>...</td>\n",
       "      <td>...</td>\n",
       "    </tr>\n",
       "    <tr>\n",
       "      <th>4995</th>\n",
       "      <td>4996</td>\n",
       "      <td>29</td>\n",
       "      <td>3</td>\n",
       "      <td>40</td>\n",
       "      <td>92697</td>\n",
       "      <td>1</td>\n",
       "      <td>1.9</td>\n",
       "      <td>3</td>\n",
       "      <td>0</td>\n",
       "      <td>0</td>\n",
       "      <td>0</td>\n",
       "      <td>0</td>\n",
       "      <td>1</td>\n",
       "      <td>0</td>\n",
       "    </tr>\n",
       "    <tr>\n",
       "      <th>4996</th>\n",
       "      <td>4997</td>\n",
       "      <td>30</td>\n",
       "      <td>4</td>\n",
       "      <td>15</td>\n",
       "      <td>92037</td>\n",
       "      <td>4</td>\n",
       "      <td>0.4</td>\n",
       "      <td>1</td>\n",
       "      <td>85</td>\n",
       "      <td>0</td>\n",
       "      <td>0</td>\n",
       "      <td>0</td>\n",
       "      <td>1</td>\n",
       "      <td>0</td>\n",
       "    </tr>\n",
       "    <tr>\n",
       "      <th>4997</th>\n",
       "      <td>4998</td>\n",
       "      <td>63</td>\n",
       "      <td>39</td>\n",
       "      <td>24</td>\n",
       "      <td>93023</td>\n",
       "      <td>2</td>\n",
       "      <td>0.3</td>\n",
       "      <td>3</td>\n",
       "      <td>0</td>\n",
       "      <td>0</td>\n",
       "      <td>0</td>\n",
       "      <td>0</td>\n",
       "      <td>0</td>\n",
       "      <td>0</td>\n",
       "    </tr>\n",
       "    <tr>\n",
       "      <th>4998</th>\n",
       "      <td>4999</td>\n",
       "      <td>65</td>\n",
       "      <td>40</td>\n",
       "      <td>49</td>\n",
       "      <td>90034</td>\n",
       "      <td>3</td>\n",
       "      <td>0.5</td>\n",
       "      <td>2</td>\n",
       "      <td>0</td>\n",
       "      <td>0</td>\n",
       "      <td>0</td>\n",
       "      <td>0</td>\n",
       "      <td>1</td>\n",
       "      <td>0</td>\n",
       "    </tr>\n",
       "    <tr>\n",
       "      <th>4999</th>\n",
       "      <td>5000</td>\n",
       "      <td>28</td>\n",
       "      <td>4</td>\n",
       "      <td>83</td>\n",
       "      <td>92612</td>\n",
       "      <td>3</td>\n",
       "      <td>0.8</td>\n",
       "      <td>1</td>\n",
       "      <td>0</td>\n",
       "      <td>0</td>\n",
       "      <td>0</td>\n",
       "      <td>0</td>\n",
       "      <td>1</td>\n",
       "      <td>1</td>\n",
       "    </tr>\n",
       "  </tbody>\n",
       "</table>\n",
       "<p>5000 rows × 14 columns</p>\n",
       "</div>"
      ],
      "text/plain": [
       "        ID  Age  Experience  Income  ZIP Code  Family  CCAvg  Education  \\\n",
       "0        1   25           1      49     91107       4    1.6          1   \n",
       "1        2   45          19      34     90089       3    1.5          1   \n",
       "2        3   39          15      11     94720       1    1.0          1   \n",
       "3        4   35           9     100     94112       1    2.7          2   \n",
       "4        5   35           8      45     91330       4    1.0          2   \n",
       "...    ...  ...         ...     ...       ...     ...    ...        ...   \n",
       "4995  4996   29           3      40     92697       1    1.9          3   \n",
       "4996  4997   30           4      15     92037       4    0.4          1   \n",
       "4997  4998   63          39      24     93023       2    0.3          3   \n",
       "4998  4999   65          40      49     90034       3    0.5          2   \n",
       "4999  5000   28           4      83     92612       3    0.8          1   \n",
       "\n",
       "      Mortgage  Personal Loan  Securities Account  CD Account  Online  \\\n",
       "0            0              0                   1           0       0   \n",
       "1            0              0                   1           0       0   \n",
       "2            0              0                   0           0       0   \n",
       "3            0              0                   0           0       0   \n",
       "4            0              0                   0           0       0   \n",
       "...        ...            ...                 ...         ...     ...   \n",
       "4995         0              0                   0           0       1   \n",
       "4996        85              0                   0           0       1   \n",
       "4997         0              0                   0           0       0   \n",
       "4998         0              0                   0           0       1   \n",
       "4999         0              0                   0           0       1   \n",
       "\n",
       "      CreditCard  \n",
       "0              0  \n",
       "1              0  \n",
       "2              0  \n",
       "3              0  \n",
       "4              1  \n",
       "...          ...  \n",
       "4995           0  \n",
       "4996           0  \n",
       "4997           0  \n",
       "4998           0  \n",
       "4999           1  \n",
       "\n",
       "[5000 rows x 14 columns]"
      ]
     },
     "execution_count": 9,
     "metadata": {},
     "output_type": "execute_result"
    }
   ],
   "source": [
    "df = pd.read_csv(\"E:\\BA\\PYTHON\\Graded Project on Descripitive Analysis\\Bank Personal Loan Modelling.csv\")\n",
    "df"
   ]
  },
  {
   "cell_type": "code",
   "execution_count": 10,
   "id": "58ca0389",
   "metadata": {},
   "outputs": [
    {
     "data": {
      "text/html": [
       "<div>\n",
       "<style scoped>\n",
       "    .dataframe tbody tr th:only-of-type {\n",
       "        vertical-align: middle;\n",
       "    }\n",
       "\n",
       "    .dataframe tbody tr th {\n",
       "        vertical-align: top;\n",
       "    }\n",
       "\n",
       "    .dataframe thead th {\n",
       "        text-align: right;\n",
       "    }\n",
       "</style>\n",
       "<table border=\"1\" class=\"dataframe\">\n",
       "  <thead>\n",
       "    <tr style=\"text-align: right;\">\n",
       "      <th></th>\n",
       "      <th>ID</th>\n",
       "      <th>Age</th>\n",
       "      <th>Experience</th>\n",
       "      <th>Income</th>\n",
       "      <th>ZIP Code</th>\n",
       "      <th>Family</th>\n",
       "      <th>CCAvg</th>\n",
       "      <th>Education</th>\n",
       "      <th>Mortgage</th>\n",
       "      <th>Personal Loan</th>\n",
       "      <th>Securities Account</th>\n",
       "      <th>CD Account</th>\n",
       "      <th>Online</th>\n",
       "      <th>CreditCard</th>\n",
       "    </tr>\n",
       "  </thead>\n",
       "  <tbody>\n",
       "    <tr>\n",
       "      <th>count</th>\n",
       "      <td>5000.000000</td>\n",
       "      <td>5000.000000</td>\n",
       "      <td>5000.000000</td>\n",
       "      <td>5000.000000</td>\n",
       "      <td>5000.000000</td>\n",
       "      <td>5000.000000</td>\n",
       "      <td>5000.000000</td>\n",
       "      <td>5000.000000</td>\n",
       "      <td>5000.000000</td>\n",
       "      <td>5000.000000</td>\n",
       "      <td>5000.000000</td>\n",
       "      <td>5000.00000</td>\n",
       "      <td>5000.000000</td>\n",
       "      <td>5000.000000</td>\n",
       "    </tr>\n",
       "    <tr>\n",
       "      <th>mean</th>\n",
       "      <td>2500.500000</td>\n",
       "      <td>45.338400</td>\n",
       "      <td>20.104600</td>\n",
       "      <td>73.774200</td>\n",
       "      <td>93152.503000</td>\n",
       "      <td>2.396400</td>\n",
       "      <td>1.937938</td>\n",
       "      <td>1.881000</td>\n",
       "      <td>56.498800</td>\n",
       "      <td>0.096000</td>\n",
       "      <td>0.104400</td>\n",
       "      <td>0.06040</td>\n",
       "      <td>0.596800</td>\n",
       "      <td>0.294000</td>\n",
       "    </tr>\n",
       "    <tr>\n",
       "      <th>std</th>\n",
       "      <td>1443.520003</td>\n",
       "      <td>11.463166</td>\n",
       "      <td>11.467954</td>\n",
       "      <td>46.033729</td>\n",
       "      <td>2121.852197</td>\n",
       "      <td>1.147663</td>\n",
       "      <td>1.747659</td>\n",
       "      <td>0.839869</td>\n",
       "      <td>101.713802</td>\n",
       "      <td>0.294621</td>\n",
       "      <td>0.305809</td>\n",
       "      <td>0.23825</td>\n",
       "      <td>0.490589</td>\n",
       "      <td>0.455637</td>\n",
       "    </tr>\n",
       "    <tr>\n",
       "      <th>min</th>\n",
       "      <td>1.000000</td>\n",
       "      <td>23.000000</td>\n",
       "      <td>-3.000000</td>\n",
       "      <td>8.000000</td>\n",
       "      <td>9307.000000</td>\n",
       "      <td>1.000000</td>\n",
       "      <td>0.000000</td>\n",
       "      <td>1.000000</td>\n",
       "      <td>0.000000</td>\n",
       "      <td>0.000000</td>\n",
       "      <td>0.000000</td>\n",
       "      <td>0.00000</td>\n",
       "      <td>0.000000</td>\n",
       "      <td>0.000000</td>\n",
       "    </tr>\n",
       "    <tr>\n",
       "      <th>25%</th>\n",
       "      <td>1250.750000</td>\n",
       "      <td>35.000000</td>\n",
       "      <td>10.000000</td>\n",
       "      <td>39.000000</td>\n",
       "      <td>91911.000000</td>\n",
       "      <td>1.000000</td>\n",
       "      <td>0.700000</td>\n",
       "      <td>1.000000</td>\n",
       "      <td>0.000000</td>\n",
       "      <td>0.000000</td>\n",
       "      <td>0.000000</td>\n",
       "      <td>0.00000</td>\n",
       "      <td>0.000000</td>\n",
       "      <td>0.000000</td>\n",
       "    </tr>\n",
       "    <tr>\n",
       "      <th>50%</th>\n",
       "      <td>2500.500000</td>\n",
       "      <td>45.000000</td>\n",
       "      <td>20.000000</td>\n",
       "      <td>64.000000</td>\n",
       "      <td>93437.000000</td>\n",
       "      <td>2.000000</td>\n",
       "      <td>1.500000</td>\n",
       "      <td>2.000000</td>\n",
       "      <td>0.000000</td>\n",
       "      <td>0.000000</td>\n",
       "      <td>0.000000</td>\n",
       "      <td>0.00000</td>\n",
       "      <td>1.000000</td>\n",
       "      <td>0.000000</td>\n",
       "    </tr>\n",
       "    <tr>\n",
       "      <th>75%</th>\n",
       "      <td>3750.250000</td>\n",
       "      <td>55.000000</td>\n",
       "      <td>30.000000</td>\n",
       "      <td>98.000000</td>\n",
       "      <td>94608.000000</td>\n",
       "      <td>3.000000</td>\n",
       "      <td>2.500000</td>\n",
       "      <td>3.000000</td>\n",
       "      <td>101.000000</td>\n",
       "      <td>0.000000</td>\n",
       "      <td>0.000000</td>\n",
       "      <td>0.00000</td>\n",
       "      <td>1.000000</td>\n",
       "      <td>1.000000</td>\n",
       "    </tr>\n",
       "    <tr>\n",
       "      <th>max</th>\n",
       "      <td>5000.000000</td>\n",
       "      <td>67.000000</td>\n",
       "      <td>43.000000</td>\n",
       "      <td>224.000000</td>\n",
       "      <td>96651.000000</td>\n",
       "      <td>4.000000</td>\n",
       "      <td>10.000000</td>\n",
       "      <td>3.000000</td>\n",
       "      <td>635.000000</td>\n",
       "      <td>1.000000</td>\n",
       "      <td>1.000000</td>\n",
       "      <td>1.00000</td>\n",
       "      <td>1.000000</td>\n",
       "      <td>1.000000</td>\n",
       "    </tr>\n",
       "  </tbody>\n",
       "</table>\n",
       "</div>"
      ],
      "text/plain": [
       "                ID          Age   Experience       Income      ZIP Code  \\\n",
       "count  5000.000000  5000.000000  5000.000000  5000.000000   5000.000000   \n",
       "mean   2500.500000    45.338400    20.104600    73.774200  93152.503000   \n",
       "std    1443.520003    11.463166    11.467954    46.033729   2121.852197   \n",
       "min       1.000000    23.000000    -3.000000     8.000000   9307.000000   \n",
       "25%    1250.750000    35.000000    10.000000    39.000000  91911.000000   \n",
       "50%    2500.500000    45.000000    20.000000    64.000000  93437.000000   \n",
       "75%    3750.250000    55.000000    30.000000    98.000000  94608.000000   \n",
       "max    5000.000000    67.000000    43.000000   224.000000  96651.000000   \n",
       "\n",
       "            Family        CCAvg    Education     Mortgage  Personal Loan  \\\n",
       "count  5000.000000  5000.000000  5000.000000  5000.000000    5000.000000   \n",
       "mean      2.396400     1.937938     1.881000    56.498800       0.096000   \n",
       "std       1.147663     1.747659     0.839869   101.713802       0.294621   \n",
       "min       1.000000     0.000000     1.000000     0.000000       0.000000   \n",
       "25%       1.000000     0.700000     1.000000     0.000000       0.000000   \n",
       "50%       2.000000     1.500000     2.000000     0.000000       0.000000   \n",
       "75%       3.000000     2.500000     3.000000   101.000000       0.000000   \n",
       "max       4.000000    10.000000     3.000000   635.000000       1.000000   \n",
       "\n",
       "       Securities Account  CD Account       Online   CreditCard  \n",
       "count         5000.000000  5000.00000  5000.000000  5000.000000  \n",
       "mean             0.104400     0.06040     0.596800     0.294000  \n",
       "std              0.305809     0.23825     0.490589     0.455637  \n",
       "min              0.000000     0.00000     0.000000     0.000000  \n",
       "25%              0.000000     0.00000     0.000000     0.000000  \n",
       "50%              0.000000     0.00000     1.000000     0.000000  \n",
       "75%              0.000000     0.00000     1.000000     1.000000  \n",
       "max              1.000000     1.00000     1.000000     1.000000  "
      ]
     },
     "execution_count": 10,
     "metadata": {},
     "output_type": "execute_result"
    }
   ],
   "source": [
    "'''\n",
    "(Q-8)\n",
    "Give us the statistical summary for all the variables in the dataset\n",
    "\n",
    "\n",
    "(Ans)\n",
    "'''\n",
    "df.describe()\n",
    "\n"
   ]
  },
  {
   "cell_type": "code",
   "execution_count": null,
   "id": "d4849acc",
   "metadata": {},
   "outputs": [],
   "source": []
  },
  {
   "cell_type": "code",
   "execution_count": 11,
   "id": "d1cfbb1a",
   "metadata": {},
   "outputs": [
    {
     "data": {
      "text/plain": [
       "ID                     2500.500000\n",
       "Age                      45.338400\n",
       "Experience               20.104600\n",
       "Income                   73.774200\n",
       "ZIP Code              93152.503000\n",
       "Family                    2.396400\n",
       "CCAvg                     1.937938\n",
       "Education                 1.881000\n",
       "Mortgage                 56.498800\n",
       "Personal Loan             0.096000\n",
       "Securities Account        0.104400\n",
       "CD Account                0.060400\n",
       "Online                    0.596800\n",
       "CreditCard                0.294000\n",
       "dtype: float64"
      ]
     },
     "execution_count": 11,
     "metadata": {},
     "output_type": "execute_result"
    }
   ],
   "source": [
    "'''\n",
    "(Q-9)\n",
    "\n",
    "Evaluate the measures of central tendency and measures of dispersion for all the quantitative\n",
    "variables in the dataset.\n",
    "\n",
    "(Ans)\n",
    "'''\n",
    "\n",
    "df.mean()\n",
    "\n"
   ]
  },
  {
   "cell_type": "code",
   "execution_count": 12,
   "id": "1fbd0792",
   "metadata": {},
   "outputs": [
    {
     "data": {
      "text/plain": [
       "ID                     2500.5\n",
       "Age                      45.0\n",
       "Experience               20.0\n",
       "Income                   64.0\n",
       "ZIP Code              93437.0\n",
       "Family                    2.0\n",
       "CCAvg                     1.5\n",
       "Education                 2.0\n",
       "Mortgage                  0.0\n",
       "Personal Loan             0.0\n",
       "Securities Account        0.0\n",
       "CD Account                0.0\n",
       "Online                    1.0\n",
       "CreditCard                0.0\n",
       "dtype: float64"
      ]
     },
     "execution_count": 12,
     "metadata": {},
     "output_type": "execute_result"
    }
   ],
   "source": [
    "df.median()"
   ]
  },
  {
   "cell_type": "code",
   "execution_count": 13,
   "id": "e9de2713",
   "metadata": {},
   "outputs": [
    {
     "data": {
      "text/plain": [
       "ID                    1443.520003\n",
       "Age                     11.463166\n",
       "Experience              11.467954\n",
       "Income                  46.033729\n",
       "ZIP Code              2121.852197\n",
       "Family                   1.147663\n",
       "CCAvg                    1.747659\n",
       "Education                0.839869\n",
       "Mortgage               101.713802\n",
       "Personal Loan            0.294621\n",
       "Securities Account       0.305809\n",
       "CD Account               0.238250\n",
       "Online                   0.490589\n",
       "CreditCard               0.455637\n",
       "dtype: float64"
      ]
     },
     "execution_count": 13,
     "metadata": {},
     "output_type": "execute_result"
    }
   ],
   "source": [
    "df.std()"
   ]
  },
  {
   "cell_type": "code",
   "execution_count": 14,
   "id": "bbe75886",
   "metadata": {},
   "outputs": [
    {
     "name": "stdout",
     "output_type": "stream",
     "text": [
      "ID                    2499.5\n",
      "Age                     20.0\n",
      "Experience              20.0\n",
      "Income                  59.0\n",
      "ZIP Code              2697.0\n",
      "Family                   2.0\n",
      "CCAvg                    1.8\n",
      "Education                2.0\n",
      "Mortgage               101.0\n",
      "Personal Loan            0.0\n",
      "Securities Account       0.0\n",
      "CD Account               0.0\n",
      "Online                   1.0\n",
      "CreditCard               1.0\n",
      "dtype: float64\n"
     ]
    }
   ],
   "source": [
    "q3 = df.quantile(0.75)\n",
    "q1 = df.quantile(0.25)\n",
    "\n",
    "IQR = q3-q1\n",
    "\n",
    "print(IQR)"
   ]
  },
  {
   "cell_type": "code",
   "execution_count": 15,
   "id": "b776d854",
   "metadata": {},
   "outputs": [
    {
     "data": {
      "text/plain": [
       "ID                    2.083750e+06\n",
       "Age                   1.314042e+02\n",
       "Experience            1.315140e+02\n",
       "Income                2.119104e+03\n",
       "ZIP Code              4.502257e+06\n",
       "Family                1.317130e+00\n",
       "CCAvg                 3.054312e+00\n",
       "Education             7.053801e-01\n",
       "Mortgage              1.034570e+04\n",
       "Personal Loan         8.680136e-02\n",
       "Securities Account    9.351934e-02\n",
       "CD Account            5.676319e-02\n",
       "Online                2.406779e-01\n",
       "CreditCard            2.076055e-01\n",
       "dtype: float64"
      ]
     },
     "execution_count": 15,
     "metadata": {},
     "output_type": "execute_result"
    }
   ],
   "source": [
    "df.var()"
   ]
  },
  {
   "cell_type": "code",
   "execution_count": null,
   "id": "bc1316ce",
   "metadata": {},
   "outputs": [],
   "source": []
  },
  {
   "cell_type": "code",
   "execution_count": 16,
   "id": "f4706dca",
   "metadata": {},
   "outputs": [
    {
     "name": "stdout",
     "output_type": "stream",
     "text": [
      "Pearson's correlation coefficient between Age and Experience:  0.994214856968332\n"
     ]
    }
   ],
   "source": [
    "'''\n",
    "(Q-10)\n",
    "\n",
    "Evaluate the measures of central tendency and measures of dispersion for all the quantitative\n",
    "variables in the dataset.\n",
    "\n",
    "(Ans)\n",
    "\n",
    "To examine the presence of a linear relationship between the \"Age\" and \"Experience\" variables, \n",
    "we can use Pearson's correlation coefficient. Pearson's correlation coefficient measures the linear relationship \n",
    "between two variables. If there's a strong linear relationship between age and experience, the correlation coefficient \n",
    "will be close to +1 or -1. If there's no linear relationship, the correlation coefficient will be close to 0.\n",
    "'''\n",
    "\n",
    "\n",
    "correlation = df[\"Age\"].corr(df[\"Experience\"])\n",
    "\n",
    "print(\"Pearson's correlation coefficient between Age and Experience: \",correlation)\n"
   ]
  },
  {
   "cell_type": "code",
   "execution_count": 17,
   "id": "36e2463e",
   "metadata": {},
   "outputs": [
    {
     "data": {
      "text/plain": [
       "<Axes: xlabel='Age', ylabel='Experience'>"
      ]
     },
     "execution_count": 17,
     "metadata": {},
     "output_type": "execute_result"
    },
    {
     "data": {
      "image/png": "[encoded data removed]",
      "text/plain": [
       "<Figure size 640x480 with 1 Axes>"
      ]
     },
     "metadata": {},
     "output_type": "display_data"
    }
   ],
   "source": [
    "sb.scatterplot(x = df[\"Age\"], y = df[\"Experience\"])"
   ]
  },
  {
   "cell_type": "code",
   "execution_count": null,
   "id": "62df85f8",
   "metadata": {},
   "outputs": [],
   "source": []
  },
  {
   "cell_type": "code",
   "execution_count": 18,
   "id": "2946b340",
   "metadata": {},
   "outputs": [
    {
     "name": "stdout",
     "output_type": "stream",
     "text": [
      "The most frequent family size observed in this dataset is:  1\n"
     ]
    }
   ],
   "source": [
    "'''\n",
    "(Q-11)\n",
    "\n",
    "What is the most frequent family size observed in this dataset?\n",
    "\n",
    "(Ans)\n",
    "\n",
    "'''\n",
    "\n",
    "family_mode = df[\"Family\"].mode()[0]\n",
    "\n",
    "print(\"The most frequent family size observed in this dataset is: \", family_mode)\n",
    "\n",
    "\n"
   ]
  },
  {
   "cell_type": "code",
   "execution_count": null,
   "id": "325be344",
   "metadata": {},
   "outputs": [],
   "source": []
  },
  {
   "cell_type": "code",
   "execution_count": 19,
   "id": "0f4498cc",
   "metadata": {},
   "outputs": [
    {
     "name": "stdout",
     "output_type": "stream",
     "text": [
      "The coefficient of variation (CV) for the 'Income' variable is: 62.39814097758612\n"
     ]
    }
   ],
   "source": [
    "'''\n",
    "(Q-12)\n",
    "\n",
    "What is the percentage of variation you can observe in the ‘Income’ variable?\n",
    "\n",
    "(Ans)\n",
    "\n",
    "So, the coefficient of variation for the 'Income' variable is approximately 62.39%. \n",
    "This means that the 'Income' variable has a variation of about 62.39% around its mean value.\n",
    "'''\n",
    "\n",
    "income_cv = (df[\"Income\"].std()/df[\"Income\"].mean()) * 100\n",
    "\n",
    "print(\"The coefficient of variation (CV) for the 'Income' variable is:\", income_cv)\n"
   ]
  },
  {
   "cell_type": "code",
   "execution_count": null,
   "id": "f527b4e2",
   "metadata": {},
   "outputs": [],
   "source": []
  },
  {
   "cell_type": "code",
   "execution_count": 20,
   "id": "56acc089",
   "metadata": {},
   "outputs": [
    {
     "name": "stdout",
     "output_type": "stream",
     "text": [
      "Median value of non-zero mortgage amounts: 153.0\n",
      "      Mortgage  Mortgage_imputed\n",
      "0            0               153\n",
      "1            0               153\n",
      "2            0               153\n",
      "3            0               153\n",
      "4            0               153\n",
      "...        ...               ...\n",
      "4995         0               153\n",
      "4996        85                85\n",
      "4997         0               153\n",
      "4998         0               153\n",
      "4999         0               153\n",
      "\n",
      "[5000 rows x 2 columns]\n"
     ]
    }
   ],
   "source": [
    "'''\n",
    "(Q-13)\n",
    "\n",
    "The ‘Mortgage’ variable has a lot of zeroes. Impute with some business logical value that you\n",
    "feel fit for the data\n",
    "\n",
    "(Ans)\n",
    "\n",
    "This will replace the zeroes in the 'Mortgage' variable with the median value of non-zero mortgage amounts, \n",
    "providing a more representative estimation while preserving the integrity of the dataset. \n",
    "'''\n",
    "\n",
    "# Calculate the median of non-zero mortgage amounts\n",
    "median_mortgage = df[df['Mortgage'] > 0]['Mortgage'].median()\n",
    "\n",
    "# Impute zeroes with the median value\n",
    "df['Mortgage_imputed'] = df['Mortgage'].replace(0, median_mortgage)\n",
    "\n",
    "\n",
    "print(\"Median value of non-zero mortgage amounts:\", median_mortgage)\n",
    "\n",
    "print(df[['Mortgage', 'Mortgage_imputed']])\n"
   ]
  },
  {
   "cell_type": "code",
   "execution_count": null,
   "id": "893f8c23",
   "metadata": {},
   "outputs": [],
   "source": []
  },
  {
   "cell_type": "code",
   "execution_count": 35,
   "id": "af400e64",
   "metadata": {},
   "outputs": [
    {
     "data": {
      "text/plain": [
       "'\\n(Q-15)\\n\\nDo you see any outliers in the dataset? If yes, what plot you would think will be suitable to\\nshowcase to the stakeholders?\\n\\n(Ans)\\n\\nTo identify outliers in the dataset, we can use (\\'box plot\\'), which provide a visual representation of the distribution of a \\nvariable and highlight any data points that fall significantly beyond the \"whiskers\" of the box plot\\n\\n\\n'"
      ]
     },
     "execution_count": 35,
     "metadata": {},
     "output_type": "execute_result"
    }
   ],
   "source": [
    "'''\n",
    "(Q-15)\n",
    "\n",
    "Do you see any outliers in the dataset? If yes, what plot you would think will be suitable to\n",
    "showcase to the stakeholders?\n",
    "\n",
    "(Ans)\n",
    "\n",
    "To identify outliers in the dataset, we can use ('box plot'), which provide a visual representation of the distribution of a \n",
    "variable and highlight any data points that fall significantly beyond the \"whiskers\" of the box plot\n",
    "\n",
    "\n",
    "'''\n",
    "\n",
    "\n",
    "\n"
   ]
  },
  {
   "cell_type": "code",
   "execution_count": null,
   "id": "076bbca9",
   "metadata": {},
   "outputs": [],
   "source": []
  },
  {
   "cell_type": "code",
   "execution_count": 46,
   "id": "3e6c4366",
   "metadata": {},
   "outputs": [
    {
     "name": "stdout",
     "output_type": "stream",
     "text": [
      "0        (42.0, 52.0]\n",
      "1        (33.0, 42.0]\n",
      "2       (7.999, 22.0]\n",
      "3       (88.3, 113.0]\n",
      "4        (42.0, 52.0]\n",
      "            ...      \n",
      "4995     (33.0, 42.0]\n",
      "4996    (7.999, 22.0]\n",
      "4997     (22.0, 33.0]\n",
      "4998     (42.0, 52.0]\n",
      "4999     (78.0, 88.3]\n",
      "Name: Income, Length: 5000, dtype: category\n",
      "Categories (10, interval[float64, right]): [(7.999, 22.0] < (22.0, 33.0] < (33.0, 42.0] < (42.0, 52.0] ... (78.0, 88.3] < (88.3, 113.0] < (113.0, 145.0] < (145.0, 224.0]]\n"
     ]
    }
   ],
   "source": [
    "'''\n",
    "(Q-16)\n",
    "\n",
    "Give us the decile values of the variable ‘Income’ in the dataset.\n",
    "\n",
    "\n",
    "(Ans)\n",
    "\n",
    "To compute decile values of the variable 'Income' in the dataset, we can use the quantile function in pandas. \n",
    "Deciles divide the data into 10 equal parts, with each decile representing 10% of the data.\n",
    "\n",
    "'''\n",
    "\n",
    "Income_decile = pd.qcut(df[\"Income\"],10)\n",
    "print(Income_decile)"
   ]
  },
  {
   "cell_type": "code",
   "execution_count": null,
   "id": "7b570833",
   "metadata": {},
   "outputs": [],
   "source": []
  },
  {
   "cell_type": "code",
   "execution_count": 48,
   "id": "990437d6",
   "metadata": {},
   "outputs": [
    {
     "name": "stdout",
     "output_type": "stream",
     "text": [
      "IQR of quantitative and continuous variables:\n",
      "Age: 20.00\n",
      "Experience: 20.00\n",
      "Income: 59.00\n",
      "CCAvg: 1.80\n",
      "Mortgage: 101.00\n"
     ]
    }
   ],
   "source": [
    "'''\n",
    "(Q-17)\n",
    "\n",
    "Give the IQR of all the variables which are quantitative and continuous.\n",
    "\n",
    "(Ans)\n",
    "\n",
    "\n",
    "\n",
    "'''\n",
    "\n",
    "continuous_vars = ['Age', 'Experience', 'Income', 'CCAvg', 'Mortgage']\n",
    "\n",
    "# Calculate IQR for each variable\n",
    "iqr_values = {}\n",
    "for var in continuous_vars:\n",
    "    Q1 = df[var].quantile(0.25)\n",
    "    Q3 = df[var].quantile(0.75)\n",
    "    IQR = Q3 - Q1\n",
    "    iqr_values[var] = IQR\n",
    "\n",
    "# Display IQR values\n",
    "print(\"IQR of quantitative and continuous variables:\")\n",
    "for var, iqr in iqr_values.items():\n",
    "    print(f\"{var}: {iqr:.2f}\")\n"
   ]
  },
  {
   "cell_type": "code",
   "execution_count": null,
   "id": "97acd7c0",
   "metadata": {},
   "outputs": [],
   "source": []
  },
  {
   "cell_type": "code",
   "execution_count": 49,
   "id": "8035152d",
   "metadata": {},
   "outputs": [
    {
     "name": "stdout",
     "output_type": "stream",
     "text": [
      "Correlation coefficient between Income and CCAvg: 0.6459836696249656\n"
     ]
    }
   ],
   "source": [
    "'''\n",
    "(Q-18)\n",
    "\n",
    "Do the higher-income holders spend more on credit cards?\n",
    "\n",
    "(Ans)\n",
    "\n",
    "To determine if there's a relationship between income and spending on credit cards, we can calculate \n",
    "the correlation coefficient between the 'Income' and 'CCAvg'variables. \n",
    "If the correlation coefficient is positive and statistically significant, \n",
    "it suggests that higher-income holders tend to spend more on credit cards.\n",
    "\n",
    "With a positive correlation coefficient, we can infer that as income increases, \n",
    "spending on credit cards tends to increase as well. Conversely, as income decreases, \n",
    "spending on credit cards tends to decrease.\n",
    "'''\n",
    "\n",
    "correlation = df['Income'].corr(df['CCAvg'])\n",
    "\n",
    "print(\"Correlation coefficient between Income and CCAvg:\", correlation)"
   ]
  },
  {
   "cell_type": "code",
   "execution_count": null,
   "id": "e0720d4d",
   "metadata": {},
   "outputs": [],
   "source": []
  },
  {
   "cell_type": "code",
   "execution_count": 70,
   "id": "ab3f9971",
   "metadata": {},
   "outputs": [
    {
     "name": "stdout",
     "output_type": "stream",
     "text": [
      "Number of customers using online banking: 2984\n",
      "Mean income for customers using online banking: 74.31166219839142\n",
      "Mean income for customers not using online banking: 72.97867063492063\n",
      "\n",
      "From this analysis, it appears that the customer using online banking has a higher income \n",
      "compared to the average income of customers not using online banking.\n"
     ]
    }
   ],
   "source": [
    "'''\n",
    "(Q-19)\n",
    "\n",
    "How many customers use online banking? Do customers using bank internet facilities have\n",
    "higher income?\n",
    "\n",
    "\n",
    "(Ans)\n",
    "\n",
    "\n",
    "'''\n",
    "online_banking_customer = df[\"Online\"].sum() \n",
    "\n",
    "# Calculate mean income for customers using online banking\n",
    "mean_income_online = df[df['Online'] == 1]['Income'].mean()\n",
    "\n",
    "# Calculate mean income for customers not using online banking\n",
    "mean_income_offline = df[df['Online'] == 0]['Income'].mean()\n",
    "\n",
    "print(\"Number of customers using online banking:\", online_banking_customer)\n",
    "print(\"Mean income for customers using online banking:\", mean_income_online)\n",
    "print(\"Mean income for customers not using online banking:\", mean_income_offline)\n",
    "\n",
    "print()\n",
    "\n",
    "print(\"From this analysis, it appears that the customer using online banking has a higher income \\ncompared to the average income of customers not using online banking.\")"
   ]
  },
  {
   "cell_type": "code",
   "execution_count": null,
   "id": "3123b9ee",
   "metadata": {},
   "outputs": [],
   "source": []
  },
  {
   "cell_type": "code",
   "execution_count": 77,
   "id": "e6423741",
   "metadata": {},
   "outputs": [
    {
     "name": "stdout",
     "output_type": "stream",
     "text": [
      "Number of observations outside ±3σ: 2\n",
      "\n",
      "According to the calculation, there are 2 observations outside the range of ±3 standard deviations \n",
      "from the mean of the income variable. This indicates that there are 3 outliers beyond this range in the dataset.\n"
     ]
    }
   ],
   "source": [
    "'''\n",
    "(Q-20)\n",
    "\n",
    "Using the z-score of the income variable, find out the number of observations outside the +-3σ.\n",
    "\n",
    "\n",
    "(Ans)\n",
    "\n",
    "'''\n",
    "\n",
    "mean_income = df['Income'].mean()\n",
    "std_income = df['Income'].std()\n",
    "\n",
    "df['Z_Score_Income'] = (df['Income'] - mean_income) / std_income\n",
    "\n",
    "num_outliers = ((df['Z_Score_Income'] > 3) | (df['Z_Score_Income'] < -3)).sum()\n",
    "\n",
    "print(\"Number of observations outside ±3σ:\", num_outliers)\n",
    "print()\n",
    "\n",
    "print(\"According to the calculation, there are 2 observations outside the range of ±3 standard deviations \\nfrom the mean of the income variable. This indicates that there are 3 outliers beyond this range in the dataset.\")"
   ]
  },
  {
   "cell_type": "code",
   "execution_count": null,
   "id": "5bd69bcf",
   "metadata": {},
   "outputs": [],
   "source": []
  },
  {
   "cell_type": "code",
   "execution_count": null,
   "id": "4849a487",
   "metadata": {},
   "outputs": [],
   "source": []
  },
  {
   "cell_type": "code",
   "execution_count": null,
   "id": "8f61fff3",
   "metadata": {},
   "outputs": [],
   "source": []
  },
  {
   "cell_type": "code",
   "execution_count": null,
   "id": "f95e334f",
   "metadata": {},
   "outputs": [],
   "source": []
  },
  {
   "cell_type": "code",
   "execution_count": null,
   "id": "8c76fa3c",
   "metadata": {},
   "outputs": [],
   "source": []
  }
 ],
 "metadata": {
  "kernelspec": {
   "display_name": "Python 3 (ipykernel)",
   "language": "python",
   "name": "python3"
  },
  "language_info": {
   "codemirror_mode": {
    "name": "ipython",
    "version": 3
   },
   "file_extension": ".py",
   "mimetype": "text/x-python",
   "name": "python",
   "nbconvert_exporter": "python",
   "pygments_lexer": "ipython3",
   "version": "3.11.4"
  }
 },
 "nbformat": 4,
 "nbformat_minor": 5
}
